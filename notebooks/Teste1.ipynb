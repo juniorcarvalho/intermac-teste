{
 "cells": [
  {
   "cell_type": "markdown",
   "metadata": {},
   "source": [
    "# Teste WS seguros, intermac e gta"
   ]
  },
  {
   "cell_type": "code",
   "execution_count": 1,
   "metadata": {},
   "outputs": [],
   "source": [
    "import requests"
   ]
  },
  {
   "cell_type": "code",
   "execution_count": 2,
   "metadata": {},
   "outputs": [],
   "source": [
    "from xml.etree import ElementTree"
   ]
  },
  {
   "cell_type": "code",
   "execution_count": 3,
   "metadata": {},
   "outputs": [],
   "source": [
    "import jxmlease"
   ]
  },
  {
   "cell_type": "markdown",
   "metadata": {},
   "source": [
    "### Intermac"
   ]
  },
  {
   "cell_type": "code",
   "execution_count": 4,
   "metadata": {},
   "outputs": [],
   "source": [
    "url='https://www.intermacseguros.com/ws/'"
   ]
  },
  {
   "cell_type": "code",
   "execution_count": 5,
   "metadata": {},
   "outputs": [],
   "source": [
    "service='getPlanosLista'"
   ]
  },
  {
   "cell_type": "code",
   "execution_count": 6,
   "metadata": {},
   "outputs": [],
   "source": [
    "payload = {\n",
    "    'mensagem': \"<?xml version='1.0' encoding='UTF-8' ?><requisicao><login>xml3</login><senha>15223</senha></requisicao>\",\n",
    "    }"
   ]
  },
  {
   "cell_type": "code",
   "execution_count": 7,
   "metadata": {},
   "outputs": [],
   "source": [
    "full_url = url + service"
   ]
  },
  {
   "cell_type": "code",
   "execution_count": 8,
   "metadata": {},
   "outputs": [],
   "source": [
    "response = requests.get(full_url, params=payload)"
   ]
  },
  {
   "cell_type": "code",
   "execution_count": 9,
   "metadata": {},
   "outputs": [
    {
     "data": {
      "text/plain": [
       "200"
      ]
     },
     "execution_count": 9,
     "metadata": {},
     "output_type": "execute_result"
    }
   ],
   "source": [
    "response.status_code"
   ]
  },
  {
   "cell_type": "code",
   "execution_count": 10,
   "metadata": {},
   "outputs": [
    {
     "data": {
      "text/plain": [
       "b\"<?xml version='1.0' encoding='UTF-8' ?>\\r\\n<planos>\\r\\n <plano>\\r\\n  <planoId>6171</planoId>\\r\\n  <planoNome>STAR ONE</planoNome>\\r\\n  <planoCodTar>1526</planoCodTar>\\r\\n </plano>\\r\\n <plano>\\r\\n  <planoId>6176</planoId>\\r\\n  <planoNome>TURISTICO INTERNACIONAL</planoNome>\\r\\n  <planoCodTar>1527</planoCodTar>\\r\\n </plano>\\r\\n <plano>\\r\\n  <planoId>6177</planoId>\\r\\n  <planoNome>TURISTICO PLUS</planoNome>\\r\\n  <planoCodTar>1528</planoCodTar>\\r\\n </plano>\\r\\n <plano>\\r\\n  <planoId>6178</planoId>\\r\\n  <planoNome>GOLD</planoNome>\\r\\n  <planoCodTar>1529</planoCodTar>\\r\\n </plano>\\r\\n <plano>\\r\\n  <planoId>6180</planoId>\\r\\n  <planoNome>PLATINUM</planoNome>\\r\\n  <planoCodTar>1530</planoCodTar>\\r\\n </plano>\\r\\n <plano>\\r\\n  <planoId>6203</planoId>\\r\\n  <planoNome>BLACK</planoNome>\\r\\n  <planoCodTar>1531</planoCodTar>\\r\\n </plano>\\r\\n <plano>\\r\\n  <planoId>6184</planoId>\\r\\n  <planoNome>EMBASSY PLUS</planoNome>\\r\\n  <planoCodTar>1534</planoCodTar>\\r\\n </plano>\\r\\n <plano>\\r\\n  <planoId>6185</planoId>\\r\\n  <planoNome>BRASIL VIP</planoNome>\\r\\n  <planoCodTar>1535</planoCodTar>\\r\\n </plano>\\r\\n <plano>\\r\\n  <planoId>6186</planoId>\\r\\n  <planoNome>BRASIL PREMIUM</planoNome>\\r\\n  <planoCodTar>1536</planoCodTar>\\r\\n </plano>\\r\\n <plano>\\r\\n  <planoId>6187</planoId>\\r\\n  <planoNome>BRASIL TOP</planoNome>\\r\\n  <planoCodTar>1537</planoCodTar>\\r\\n </plano>\\r\\n <plano>\\r\\n  <planoId>6188</planoId>\\r\\n  <planoNome>STUDENT PLUS</planoNome>\\r\\n  <planoCodTar>1538</planoCodTar>\\r\\n </plano>\\r\\n <plano>\\r\\n  <planoId>6189</planoId>\\r\\n  <planoNome>STUDENT VIP</planoNome>\\r\\n  <planoCodTar>1539</planoCodTar>\\r\\n </plano>\\r\\n <plano>\\r\\n  <planoId>6190</planoId>\\r\\n  <planoNome>STUDENT TOP</planoNome>\\r\\n  <planoCodTar>1540</planoCodTar>\\r\\n </plano>\\r\\n <plano>\\r\\n  <planoId>6191</planoId>\\r\\n  <planoNome>GOLD LONG STAY</planoNome>\\r\\n  <planoCodTar>1541</planoCodTar>\\r\\n </plano>\\r\\n <plano>\\r\\n  <planoId>6192</planoId>\\r\\n  <planoNome>EMBASSY LONG STAY</planoNome>\\r\\n  <planoCodTar>1542</planoCodTar>\\r\\n </plano>\\r\\n <plano>\\r\\n  <planoId>6193</planoId>\\r\\n  <planoNome>PLATINUM LONG STAY</planoNome>\\r\\n  <planoCodTar>1543</planoCodTar>\\r\\n </plano>\\r\\n <plano>\\r\\n  <planoId>6194</planoId>\\r\\n  <planoNome>EMBASSY MULTIVIAGENS 30</planoNome>\\r\\n  <planoCodTar>1544</planoCodTar>\\r\\n </plano>\\r\\n <plano>\\r\\n  <planoId>6195</planoId>\\r\\n  <planoNome>GOLD MULTIVIAGENS 30</planoNome>\\r\\n  <planoCodTar>1545</planoCodTar>\\r\\n </plano>\\r\\n <plano>\\r\\n  <planoId>6196</planoId>\\r\\n  <planoNome>GREEN MULTIVIAGENS 30</planoNome>\\r\\n  <planoCodTar>1546</planoCodTar>\\r\\n </plano>\\r\\n <plano>\\r\\n  <planoId>6197</planoId>\\r\\n  <planoNome>GREEN MULTIVIAGENS 60</planoNome>\\r\\n  <planoCodTar>1547</planoCodTar>\\r\\n </plano>\\r\\n <plano>\\r\\n  <planoId>6198</planoId>\\r\\n  <planoNome>PLATINUM MULTIVIAGENS 30</planoNome>\\r\\n  <planoCodTar>1548</planoCodTar>\\r\\n </plano>\\r\\n <plano>\\r\\n  <planoId>6199</planoId>\\r\\n  <planoNome>PRATA</planoNome>\\r\\n  <planoCodTar>1549</planoCodTar>\\r\\n </plano>\\r\\n <plano>\\r\\n  <planoId>6200</planoId>\\r\\n  <planoNome>OURO</planoNome>\\r\\n  <planoCodTar>1550</planoCodTar>\\r\\n </plano>\\r\\n <plano>\\r\\n  <planoId>6204</planoId>\\r\\n  <planoNome>AGENTE 60</planoNome>\\r\\n  <planoCodTar>1552</planoCodTar>\\r\\n </plano>\\r\\n <plano>\\r\\n  <planoId>6206</planoId>\\r\\n  <planoNome>AGENTE 20 NACIONAL</planoNome>\\r\\n  <planoCodTar>1553</planoCodTar>\\r\\n </plano>\\r\\n <plano>\\r\\n  <planoId>6207</planoId>\\r\\n  <planoNome>AGENTE 30</planoNome>\\r\\n  <planoCodTar>1554</planoCodTar>\\r\\n </plano>\\r\\n <plano>\\r\\n  <planoId>6221</planoId>\\r\\n  <planoNome>EMBASSY</planoNome>\\r\\n  <planoCodTar>1555</planoCodTar>\\r\\n </plano>\\r\\n <plano>\\r\\n  <planoId>6222</planoId>\\r\\n  <planoNome>EMBASSY LIGHT</planoNome>\\r\\n  <planoCodTar>1556</planoCodTar>\\r\\n </plano>\\r\\n <plano>\\r\\n  <planoId>6223</planoId>\\r\\n  <planoNome>GREEN</planoNome>\\r\\n  <planoCodTar>1557</planoCodTar>\\r\\n </plano>\\r\\n <plano>\\r\\n  <planoId>6237</planoId>\\r\\n  <planoNome>PLATINUM RECEPTIVO</planoNome>\\r\\n  <planoCodTar>1591</planoCodTar>\\r\\n </plano>\\r\\n <plano>\\r\\n  <planoId>6238</planoId>\\r\\n  <planoNome>TURISTICO PLUS RECEPTIVO</planoNome>\\r\\n  <planoCodTar>1592</planoCodTar>\\r\\n </plano>\\r\\n <plano>\\r\\n  <planoId>6239</planoId>\\r\\n  <planoNome>GOLD RECEPTIVO</planoNome>\\r\\n  <planoCodTar>1593</planoCodTar>\\r\\n </plano>\\r\\n <plano>\\r\\n  <planoId>6240</planoId>\\r\\n  <planoNome>BRASIL VIP RECEPTIVO</planoNome>\\r\\n  <planoCodTar>1594</planoCodTar>\\r\\n </plano>\\r\\n <plano>\\r\\n  <planoId>6241</planoId>\\r\\n  <planoNome>BRASIL PREMIUM RECEPTIVO</planoNome>\\r\\n  <planoCodTar>1595</planoCodTar>\\r\\n </plano>\\r\\n <plano>\\r\\n  <planoId>6242</planoId>\\r\\n  <planoNome>BRASIL TOP RECEPTIVO</planoNome>\\r\\n  <planoCodTar>1596</planoCodTar>\\r\\n </plano>\\r\\n <plano>\\r\\n  <planoId>6251</planoId>\\r\\n  <planoNome>STAR ONE.</planoNome>\\r\\n  <planoCodTar>1603</planoCodTar>\\r\\n </plano>\\r\\n <plano>\\r\\n  <planoId>6252</planoId>\\r\\n  <planoNome>GOLD. (EXCETO EUROPA)</planoNome>\\r\\n  <planoCodTar>1604</planoCodTar>\\r\\n </plano>\\r\\n <plano>\\r\\n  <planoId>6253</planoId>\\r\\n  <planoNome>EMBASSY.</planoNome>\\r\\n  <planoCodTar>1605</planoCodTar>\\r\\n </plano>\\r\\n <plano>\\r\\n  <planoId>6254</planoId>\\r\\n  <planoNome>EMBASSY LIGHT.</planoNome>\\r\\n  <planoCodTar>1606</planoCodTar>\\r\\n </plano>\\r\\n <plano>\\r\\n  <planoId>6255</planoId>\\r\\n  <planoNome>I 30</planoNome>\\r\\n  <planoCodTar>1607</planoCodTar>\\r\\n </plano>\\r\\n <plano>\\r\\n  <planoId>6256</planoId>\\r\\n  <planoNome>TURISTICO INTERNACIONAL.</planoNome>\\r\\n  <planoCodTar>1608</planoCodTar>\\r\\n </plano>\\r\\n <plano>\\r\\n  <planoId>6257</planoId>\\r\\n  <planoNome>GREEN.</planoNome>\\r\\n  <planoCodTar>1609</planoCodTar>\\r\\n </plano>\\r\\n <plano>\\r\\n  <planoId>6258</planoId>\\r\\n  <planoNome>BLACK.</planoNome>\\r\\n  <planoCodTar>1610</planoCodTar>\\r\\n </plano>\\r\\n <plano>\\r\\n  <planoId>6259</planoId>\\r\\n  <planoNome>PLATINUM.</planoNome>\\r\\n  <planoCodTar>1611</planoCodTar>\\r\\n </plano>\\r\\n <plano>\\r\\n  <planoId>6260</planoId>\\r\\n  <planoNome>EMBASSY PLUS.</planoNome>\\r\\n  <planoCodTar>1612</planoCodTar>\\r\\n </plano>\\r\\n <plano>\\r\\n  <planoId>6261</planoId>\\r\\n  <planoNome>STUDENT TOP.</planoNome>\\r\\n  <planoCodTar>1613</planoCodTar>\\r\\n </plano>\\r\\n <plano>\\r\\n  <planoId>6262</planoId>\\r\\n  <planoNome>STUDENT VIP.</planoNome>\\r\\n  <planoCodTar>1614</planoCodTar>\\r\\n </plano>\\r\\n <plano>\\r\\n  <planoId>6263</planoId>\\r\\n  <planoNome>STUDENT PLUS.</planoNome>\\r\\n  <planoCodTar>1615</planoCodTar>\\r\\n </plano>\\r\\n</planos>\""
      ]
     },
     "execution_count": 10,
     "metadata": {},
     "output_type": "execute_result"
    }
   ],
   "source": [
    "response.content"
   ]
  },
  {
   "cell_type": "code",
   "execution_count": 11,
   "metadata": {},
   "outputs": [],
   "source": [
    "result=jxmlease.parse(response.content)"
   ]
  },
  {
   "cell_type": "code",
   "execution_count": 12,
   "metadata": {},
   "outputs": [
    {
     "name": "stdout",
     "output_type": "stream",
     "text": [
      "planoCodTar 1526\n",
      "planoId 6171\n",
      "planoNome STAR ONE\n",
      "--------------------------------------------\n",
      "planoCodTar 1527\n",
      "planoId 6176\n",
      "planoNome TURISTICO INTERNACIONAL\n",
      "--------------------------------------------\n",
      "planoCodTar 1528\n",
      "planoId 6177\n",
      "planoNome TURISTICO PLUS\n",
      "--------------------------------------------\n",
      "planoCodTar 1529\n",
      "planoId 6178\n",
      "planoNome GOLD\n",
      "--------------------------------------------\n",
      "planoCodTar 1530\n",
      "planoId 6180\n",
      "planoNome PLATINUM\n",
      "--------------------------------------------\n",
      "planoCodTar 1531\n",
      "planoId 6203\n",
      "planoNome BLACK\n",
      "--------------------------------------------\n",
      "planoCodTar 1534\n",
      "planoId 6184\n",
      "planoNome EMBASSY PLUS\n",
      "--------------------------------------------\n",
      "planoCodTar 1535\n",
      "planoId 6185\n",
      "planoNome BRASIL VIP\n",
      "--------------------------------------------\n",
      "planoCodTar 1536\n",
      "planoId 6186\n",
      "planoNome BRASIL PREMIUM\n",
      "--------------------------------------------\n",
      "planoCodTar 1537\n",
      "planoId 6187\n",
      "planoNome BRASIL TOP\n",
      "--------------------------------------------\n",
      "planoCodTar 1538\n",
      "planoId 6188\n",
      "planoNome STUDENT PLUS\n",
      "--------------------------------------------\n",
      "planoCodTar 1539\n",
      "planoId 6189\n",
      "planoNome STUDENT VIP\n",
      "--------------------------------------------\n",
      "planoCodTar 1540\n",
      "planoId 6190\n",
      "planoNome STUDENT TOP\n",
      "--------------------------------------------\n",
      "planoCodTar 1541\n",
      "planoId 6191\n",
      "planoNome GOLD LONG STAY\n",
      "--------------------------------------------\n",
      "planoCodTar 1542\n",
      "planoId 6192\n",
      "planoNome EMBASSY LONG STAY\n",
      "--------------------------------------------\n",
      "planoCodTar 1543\n",
      "planoId 6193\n",
      "planoNome PLATINUM LONG STAY\n",
      "--------------------------------------------\n",
      "planoCodTar 1544\n",
      "planoId 6194\n",
      "planoNome EMBASSY MULTIVIAGENS 30\n",
      "--------------------------------------------\n",
      "planoCodTar 1545\n",
      "planoId 6195\n",
      "planoNome GOLD MULTIVIAGENS 30\n",
      "--------------------------------------------\n",
      "planoCodTar 1546\n",
      "planoId 6196\n",
      "planoNome GREEN MULTIVIAGENS 30\n",
      "--------------------------------------------\n",
      "planoCodTar 1547\n",
      "planoId 6197\n",
      "planoNome GREEN MULTIVIAGENS 60\n",
      "--------------------------------------------\n",
      "planoCodTar 1548\n",
      "planoId 6198\n",
      "planoNome PLATINUM MULTIVIAGENS 30\n",
      "--------------------------------------------\n",
      "planoCodTar 1549\n",
      "planoId 6199\n",
      "planoNome PRATA\n",
      "--------------------------------------------\n",
      "planoCodTar 1550\n",
      "planoId 6200\n",
      "planoNome OURO\n",
      "--------------------------------------------\n",
      "planoCodTar 1552\n",
      "planoId 6204\n",
      "planoNome AGENTE 60\n",
      "--------------------------------------------\n",
      "planoCodTar 1553\n",
      "planoId 6206\n",
      "planoNome AGENTE 20 NACIONAL\n",
      "--------------------------------------------\n",
      "planoCodTar 1554\n",
      "planoId 6207\n",
      "planoNome AGENTE 30\n",
      "--------------------------------------------\n",
      "planoCodTar 1555\n",
      "planoId 6221\n",
      "planoNome EMBASSY\n",
      "--------------------------------------------\n",
      "planoCodTar 1556\n",
      "planoId 6222\n",
      "planoNome EMBASSY LIGHT\n",
      "--------------------------------------------\n",
      "planoCodTar 1557\n",
      "planoId 6223\n",
      "planoNome GREEN\n",
      "--------------------------------------------\n",
      "planoCodTar 1591\n",
      "planoId 6237\n",
      "planoNome PLATINUM RECEPTIVO\n",
      "--------------------------------------------\n",
      "planoCodTar 1592\n",
      "planoId 6238\n",
      "planoNome TURISTICO PLUS RECEPTIVO\n",
      "--------------------------------------------\n",
      "planoCodTar 1593\n",
      "planoId 6239\n",
      "planoNome GOLD RECEPTIVO\n",
      "--------------------------------------------\n",
      "planoCodTar 1594\n",
      "planoId 6240\n",
      "planoNome BRASIL VIP RECEPTIVO\n",
      "--------------------------------------------\n",
      "planoCodTar 1595\n",
      "planoId 6241\n",
      "planoNome BRASIL PREMIUM RECEPTIVO\n",
      "--------------------------------------------\n",
      "planoCodTar 1596\n",
      "planoId 6242\n",
      "planoNome BRASIL TOP RECEPTIVO\n",
      "--------------------------------------------\n",
      "planoCodTar 1603\n",
      "planoId 6251\n",
      "planoNome STAR ONE.\n",
      "--------------------------------------------\n",
      "planoCodTar 1604\n",
      "planoId 6252\n",
      "planoNome GOLD. (EXCETO EUROPA)\n",
      "--------------------------------------------\n",
      "planoCodTar 1605\n",
      "planoId 6253\n",
      "planoNome EMBASSY.\n",
      "--------------------------------------------\n",
      "planoCodTar 1606\n",
      "planoId 6254\n",
      "planoNome EMBASSY LIGHT.\n",
      "--------------------------------------------\n",
      "planoCodTar 1607\n",
      "planoId 6255\n",
      "planoNome I 30\n",
      "--------------------------------------------\n",
      "planoCodTar 1608\n",
      "planoId 6256\n",
      "planoNome TURISTICO INTERNACIONAL.\n",
      "--------------------------------------------\n",
      "planoCodTar 1609\n",
      "planoId 6257\n",
      "planoNome GREEN.\n",
      "--------------------------------------------\n",
      "planoCodTar 1610\n",
      "planoId 6258\n",
      "planoNome BLACK.\n",
      "--------------------------------------------\n",
      "planoCodTar 1611\n",
      "planoId 6259\n",
      "planoNome PLATINUM.\n",
      "--------------------------------------------\n",
      "planoCodTar 1612\n",
      "planoId 6260\n",
      "planoNome EMBASSY PLUS.\n",
      "--------------------------------------------\n",
      "planoCodTar 1613\n",
      "planoId 6261\n",
      "planoNome STUDENT TOP.\n",
      "--------------------------------------------\n",
      "planoCodTar 1614\n",
      "planoId 6262\n",
      "planoNome STUDENT VIP.\n",
      "--------------------------------------------\n",
      "planoCodTar 1615\n",
      "planoId 6263\n",
      "planoNome STUDENT PLUS.\n",
      "--------------------------------------------\n"
     ]
    }
   ],
   "source": [
    "for t in result['planos']['plano']:\n",
    "    print('planoCodTar', t.get('planoCodTar'))\n",
    "    print('planoId', t.get('planoId'))\n",
    "    print('planoNome', t.get('planoNome'))\n",
    "    print('--------------------------------------------')"
   ]
  },
  {
   "cell_type": "code",
   "execution_count": null,
   "metadata": {},
   "outputs": [],
   "source": []
  },
  {
   "cell_type": "markdown",
   "metadata": {},
   "source": [
    "### GTA"
   ]
  },
  {
   "cell_type": "code",
   "execution_count": 14,
   "metadata": {},
   "outputs": [],
   "source": [
    "url='https://www.gtaassist.com.br/ws/'"
   ]
  },
  {
   "cell_type": "code",
   "execution_count": 15,
   "metadata": {},
   "outputs": [],
   "source": [
    "service='getPlanosLista'"
   ]
  },
  {
   "cell_type": "code",
   "execution_count": 16,
   "metadata": {},
   "outputs": [],
   "source": [
    "payload = {\n",
    "    'mensagem': \"<?xml version='1.0' encoding='UTF-8' ?><requisicao><login>xml766</login><senha>154766</senha></requisicao>\",\n",
    "    }"
   ]
  },
  {
   "cell_type": "code",
   "execution_count": 17,
   "metadata": {},
   "outputs": [],
   "source": [
    "full_url = url + service"
   ]
  },
  {
   "cell_type": "code",
   "execution_count": 18,
   "metadata": {},
   "outputs": [],
   "source": [
    "response = requests.get(full_url, params=payload)"
   ]
  },
  {
   "cell_type": "code",
   "execution_count": 19,
   "metadata": {},
   "outputs": [
    {
     "data": {
      "text/plain": [
       "200"
      ]
     },
     "execution_count": 19,
     "metadata": {},
     "output_type": "execute_result"
    }
   ],
   "source": [
    "response.status_code"
   ]
  },
  {
   "cell_type": "code",
   "execution_count": 20,
   "metadata": {},
   "outputs": [
    {
     "data": {
      "text/plain": [
       "b\"<?xml version='1.0' encoding='UTF-8' ?>\\r\\n<planos>\\r\\n <plano>\\r\\n  <planoId>3961</planoId>\\r\\n  <planoNome>TESTE</planoNome>\\r\\n  <planoCodTar></planoCodTar>\\r\\n </plano>\\r\\n <plano>\\r\\n  <planoId>4902</planoId>\\r\\n  <planoNome>STUDENT DIAMANTE</planoNome>\\r\\n  <planoCodTar></planoCodTar>\\r\\n </plano>\\r\\n <plano>\\r\\n  <planoId>4180</planoId>\\r\\n  <planoNome>ALL SPORTS NOVO</planoNome>\\r\\n  <planoCodTar>ALLSPQB</planoCodTar>\\r\\n </plano>\\r\\n <plano>\\r\\n  <planoId>4889</planoId>\\r\\n  <planoNome>BRONZE MARITIMO</planoNome>\\r\\n  <planoCodTar>WTASCRBRMA</planoCodTar>\\r\\n </plano>\\r\\n <plano>\\r\\n  <planoId>4890</planoId>\\r\\n  <planoNome>FULL</planoNome>\\r\\n  <planoCodTar>WTASCRFULL</planoCodTar>\\r\\n </plano>\\r\\n <plano>\\r\\n  <planoId>4891</planoId>\\r\\n  <planoNome>GLOBAL</planoNome>\\r\\n  <planoCodTar>WTASCRGLOB</planoCodTar>\\r\\n </plano>\\r\\n <plano>\\r\\n  <planoId>4892</planoId>\\r\\n  <planoNome>PLANET</planoNome>\\r\\n  <planoCodTar>WTASCRLAN</planoCodTar>\\r\\n </plano>\\r\\n <plano>\\r\\n  <planoId>4893</planoId>\\r\\n  <planoNome>EURO MAX</planoNome>\\r\\n  <planoCodTar>WTASCREUX</planoCodTar>\\r\\n </plano>\\r\\n <plano>\\r\\n  <planoId>4894</planoId>\\r\\n  <planoNome>FULL SPORTS</planoNome>\\r\\n  <planoCodTar>WTASCRFULLSP</planoCodTar>\\r\\n </plano>\\r\\n <plano>\\r\\n  <planoId>4895</planoId>\\r\\n  <planoNome>FULL SPORTS SPECIAL</planoNome>\\r\\n  <planoCodTar>WTASCRFULLSPS</planoCodTar>\\r\\n </plano>\\r\\n <plano>\\r\\n  <planoId>4896</planoId>\\r\\n  <planoNome>RECEPTIVO FULL</planoNome>\\r\\n  <planoCodTar>WTASCRFURC</planoCodTar>\\r\\n </plano>\\r\\n <plano>\\r\\n  <planoId>4898</planoId>\\r\\n  <planoNome>STUDENT PRATA</planoNome>\\r\\n  <planoCodTar>WTASCRSTUD</planoCodTar>\\r\\n </plano>\\r\\n <plano>\\r\\n  <planoId>4899</planoId>\\r\\n  <planoNome>STUDENT EURO ASSIST</planoNome>\\r\\n  <planoCodTar>WTASCREUROST</planoCodTar>\\r\\n </plano>\\r\\n <plano>\\r\\n  <planoId>4900</planoId>\\r\\n  <planoNome>STUDENT BRONZE</planoNome>\\r\\n  <planoCodTar>WTASCRBRST</planoCodTar>\\r\\n </plano>\\r\\n <plano>\\r\\n  <planoId>4905</planoId>\\r\\n  <planoNome>STUDENT PLANET</planoNome>\\r\\n  <planoCodTar>WTASCRLANST</planoCodTar>\\r\\n </plano>\\r\\n <plano>\\r\\n  <planoId>4906</planoId>\\r\\n  <planoNome>EXECUTIVO FULL90</planoNome>\\r\\n  <planoCodTar>WTASCRFULLEX90</planoCodTar>\\r\\n </plano>\\r\\n <plano>\\r\\n  <planoId>4907</planoId>\\r\\n  <planoNome>EXECUTIVO FULL120</planoNome>\\r\\n  <planoCodTar>WTASCRFULLEX12</planoCodTar>\\r\\n </plano>\\r\\n <plano>\\r\\n  <planoId>4908</planoId>\\r\\n  <planoNome>EXECUTIVO GLOBAL 90</planoNome>\\r\\n  <planoCodTar>WTASCRGLOBEX90</planoCodTar>\\r\\n </plano>\\r\\n <plano>\\r\\n  <planoId>4909</planoId>\\r\\n  <planoNome>EXECUTIVO GLOBAL 120</planoNome>\\r\\n  <planoCodTar>WTASCRGLBEX120</planoCodTar>\\r\\n </plano>\\r\\n <plano>\\r\\n  <planoId>4910</planoId>\\r\\n  <planoNome>EXECUTIVO PLANET90</planoNome>\\r\\n  <planoCodTar>WTASCRLANEX90</planoCodTar>\\r\\n </plano>\\r\\n <plano>\\r\\n  <planoId>4911</planoId>\\r\\n  <planoNome>EXECUTIVO PLANET 120</planoNome>\\r\\n  <planoCodTar>WTASCRLANEX120</planoCodTar>\\r\\n </plano>\\r\\n <plano>\\r\\n  <planoId>4912</planoId>\\r\\n  <planoNome>STUDENT FULL</planoNome>\\r\\n  <planoCodTar>WTASCRFULLST</planoCodTar>\\r\\n </plano>\\r\\n <plano>\\r\\n  <planoId>4920</planoId>\\r\\n  <planoNome>NACIONAL 6.000</planoNome>\\r\\n  <planoCodTar>WTASCRNAC06</planoCodTar>\\r\\n </plano>\\r\\n <plano>\\r\\n  <planoId>4921</planoId>\\r\\n  <planoNome>NACIONAL 18.000</planoNome>\\r\\n  <planoCodTar>WTASCRNAC18N</planoCodTar>\\r\\n </plano>\\r\\n <plano>\\r\\n  <planoId>4922</planoId>\\r\\n  <planoNome>NACIONAL 30.000</planoNome>\\r\\n  <planoCodTar>WTASCRNAC30</planoCodTar>\\r\\n </plano>\\r\\n <plano>\\r\\n  <planoId>4950</planoId>\\r\\n  <planoNome>FULL SPORT EXTREME </planoNome>\\r\\n  <planoCodTar>WTASCRFULLEXTR</planoCodTar>\\r\\n </plano>\\r\\n <plano>\\r\\n  <planoId>4951</planoId>\\r\\n  <planoNome>BRONZE</planoNome>\\r\\n  <planoCodTar>WTASCRBRONP</planoCodTar>\\r\\n </plano>\\r\\n <plano>\\r\\n  <planoId>4952</planoId>\\r\\n  <planoNome>RUBI </planoNome>\\r\\n  <planoCodTar>WTASCRRUBIP</planoCodTar>\\r\\n </plano>\\r\\n <plano>\\r\\n  <planoId>4953</planoId>\\r\\n  <planoNome>PRATA</planoNome>\\r\\n  <planoCodTar>WTASCRRATP</planoCodTar>\\r\\n </plano>\\r\\n <plano>\\r\\n  <planoId>4956</planoId>\\r\\n  <planoNome>EURO ASSIST </planoNome>\\r\\n  <planoCodTar>WTASCREUROP</planoCodTar>\\r\\n </plano>\\r\\n <plano>\\r\\n  <planoId>4957</planoId>\\r\\n  <planoNome>DIAMANTE</planoNome>\\r\\n  <planoCodTar>WTASCRDIAMP</planoCodTar>\\r\\n </plano>\\r\\n <plano>\\r\\n  <planoId>4958</planoId>\\r\\n  <planoNome>EURO BUSINESS 120</planoNome>\\r\\n  <planoCodTar>WTASCREUB120BP</planoCodTar>\\r\\n </plano>\\r\\n <plano>\\r\\n  <planoId>4959</planoId>\\r\\n  <planoNome>EURO BUSINESS 90</planoNome>\\r\\n  <planoCodTar>WTASCREURO90BP</planoCodTar>\\r\\n </plano>\\r\\n <plano>\\r\\n  <planoId>4969</planoId>\\r\\n  <planoNome>RECEPTIVO BRONZE </planoNome>\\r\\n  <planoCodTar>WTASCRBRRCP</planoCodTar>\\r\\n </plano>\\r\\n <plano>\\r\\n  <planoId>4970</planoId>\\r\\n  <planoNome>RECEPTIVO RUBI </planoNome>\\r\\n  <planoCodTar>WTASCRRUBIRCP</planoCodTar>\\r\\n </plano>\\r\\n <plano>\\r\\n  <planoId>4971</planoId>\\r\\n  <planoNome>RECEPTIVO PRATA</planoNome>\\r\\n  <planoCodTar>WTASCRRRCP</planoCodTar>\\r\\n </plano>\\r\\n <plano>\\r\\n  <planoId>4973</planoId>\\r\\n  <planoNome>RECEPTIVO DIAMANTE</planoNome>\\r\\n  <planoCodTar>WTASCRDIRCP</planoCodTar>\\r\\n </plano>\\r\\n <plano>\\r\\n  <planoId>4979</planoId>\\r\\n  <planoNome>NACIONAL 18.000 ESPORTE</planoNome>\\r\\n  <planoCodTar>WTASCRNAC18ESP</planoCodTar>\\r\\n </plano>\\r\\n</planos>\""
      ]
     },
     "execution_count": 20,
     "metadata": {},
     "output_type": "execute_result"
    }
   ],
   "source": [
    "response.content"
   ]
  },
  {
   "cell_type": "code",
   "execution_count": 21,
   "metadata": {},
   "outputs": [],
   "source": [
    "result=jxmlease.parse(response.content)"
   ]
  },
  {
   "cell_type": "code",
   "execution_count": 22,
   "metadata": {},
   "outputs": [
    {
     "name": "stdout",
     "output_type": "stream",
     "text": [
      "planoCodTar \n",
      "planoId 3961\n",
      "planoNome TESTE\n",
      "--------------------------------------------\n",
      "planoCodTar \n",
      "planoId 4902\n",
      "planoNome STUDENT DIAMANTE\n",
      "--------------------------------------------\n",
      "planoCodTar ALLSPQB\n",
      "planoId 4180\n",
      "planoNome ALL SPORTS NOVO\n",
      "--------------------------------------------\n",
      "planoCodTar WTASCRBRMA\n",
      "planoId 4889\n",
      "planoNome BRONZE MARITIMO\n",
      "--------------------------------------------\n",
      "planoCodTar WTASCRFULL\n",
      "planoId 4890\n",
      "planoNome FULL\n",
      "--------------------------------------------\n",
      "planoCodTar WTASCRGLOB\n",
      "planoId 4891\n",
      "planoNome GLOBAL\n",
      "--------------------------------------------\n",
      "planoCodTar WTASCRLAN\n",
      "planoId 4892\n",
      "planoNome PLANET\n",
      "--------------------------------------------\n",
      "planoCodTar WTASCREUX\n",
      "planoId 4893\n",
      "planoNome EURO MAX\n",
      "--------------------------------------------\n",
      "planoCodTar WTASCRFULLSP\n",
      "planoId 4894\n",
      "planoNome FULL SPORTS\n",
      "--------------------------------------------\n",
      "planoCodTar WTASCRFULLSPS\n",
      "planoId 4895\n",
      "planoNome FULL SPORTS SPECIAL\n",
      "--------------------------------------------\n",
      "planoCodTar WTASCRFURC\n",
      "planoId 4896\n",
      "planoNome RECEPTIVO FULL\n",
      "--------------------------------------------\n",
      "planoCodTar WTASCRSTUD\n",
      "planoId 4898\n",
      "planoNome STUDENT PRATA\n",
      "--------------------------------------------\n",
      "planoCodTar WTASCREUROST\n",
      "planoId 4899\n",
      "planoNome STUDENT EURO ASSIST\n",
      "--------------------------------------------\n",
      "planoCodTar WTASCRBRST\n",
      "planoId 4900\n",
      "planoNome STUDENT BRONZE\n",
      "--------------------------------------------\n",
      "planoCodTar WTASCRLANST\n",
      "planoId 4905\n",
      "planoNome STUDENT PLANET\n",
      "--------------------------------------------\n",
      "planoCodTar WTASCRFULLEX90\n",
      "planoId 4906\n",
      "planoNome EXECUTIVO FULL90\n",
      "--------------------------------------------\n",
      "planoCodTar WTASCRFULLEX12\n",
      "planoId 4907\n",
      "planoNome EXECUTIVO FULL120\n",
      "--------------------------------------------\n",
      "planoCodTar WTASCRGLOBEX90\n",
      "planoId 4908\n",
      "planoNome EXECUTIVO GLOBAL 90\n",
      "--------------------------------------------\n",
      "planoCodTar WTASCRGLBEX120\n",
      "planoId 4909\n",
      "planoNome EXECUTIVO GLOBAL 120\n",
      "--------------------------------------------\n",
      "planoCodTar WTASCRLANEX90\n",
      "planoId 4910\n",
      "planoNome EXECUTIVO PLANET90\n",
      "--------------------------------------------\n",
      "planoCodTar WTASCRLANEX120\n",
      "planoId 4911\n",
      "planoNome EXECUTIVO PLANET 120\n",
      "--------------------------------------------\n",
      "planoCodTar WTASCRFULLST\n",
      "planoId 4912\n",
      "planoNome STUDENT FULL\n",
      "--------------------------------------------\n",
      "planoCodTar WTASCRNAC06\n",
      "planoId 4920\n",
      "planoNome NACIONAL 6.000\n",
      "--------------------------------------------\n",
      "planoCodTar WTASCRNAC18N\n",
      "planoId 4921\n",
      "planoNome NACIONAL 18.000\n",
      "--------------------------------------------\n",
      "planoCodTar WTASCRNAC30\n",
      "planoId 4922\n",
      "planoNome NACIONAL 30.000\n",
      "--------------------------------------------\n",
      "planoCodTar WTASCRFULLEXTR\n",
      "planoId 4950\n",
      "planoNome FULL SPORT EXTREME\n",
      "--------------------------------------------\n",
      "planoCodTar WTASCRBRONP\n",
      "planoId 4951\n",
      "planoNome BRONZE\n",
      "--------------------------------------------\n",
      "planoCodTar WTASCRRUBIP\n",
      "planoId 4952\n",
      "planoNome RUBI\n",
      "--------------------------------------------\n",
      "planoCodTar WTASCRRATP\n",
      "planoId 4953\n",
      "planoNome PRATA\n",
      "--------------------------------------------\n",
      "planoCodTar WTASCREUROP\n",
      "planoId 4956\n",
      "planoNome EURO ASSIST\n",
      "--------------------------------------------\n",
      "planoCodTar WTASCRDIAMP\n",
      "planoId 4957\n",
      "planoNome DIAMANTE\n",
      "--------------------------------------------\n",
      "planoCodTar WTASCREUB120BP\n",
      "planoId 4958\n",
      "planoNome EURO BUSINESS 120\n",
      "--------------------------------------------\n",
      "planoCodTar WTASCREURO90BP\n",
      "planoId 4959\n",
      "planoNome EURO BUSINESS 90\n",
      "--------------------------------------------\n",
      "planoCodTar WTASCRBRRCP\n",
      "planoId 4969\n",
      "planoNome RECEPTIVO BRONZE\n",
      "--------------------------------------------\n",
      "planoCodTar WTASCRRUBIRCP\n",
      "planoId 4970\n",
      "planoNome RECEPTIVO RUBI\n",
      "--------------------------------------------\n",
      "planoCodTar WTASCRRRCP\n",
      "planoId 4971\n",
      "planoNome RECEPTIVO PRATA\n",
      "--------------------------------------------\n",
      "planoCodTar WTASCRDIRCP\n",
      "planoId 4973\n",
      "planoNome RECEPTIVO DIAMANTE\n",
      "--------------------------------------------\n",
      "planoCodTar WTASCRNAC18ESP\n",
      "planoId 4979\n",
      "planoNome NACIONAL 18.000 ESPORTE\n",
      "--------------------------------------------\n"
     ]
    }
   ],
   "source": [
    "for t in result['planos']['plano']:\n",
    "    print('planoCodTar', t.get('planoCodTar'))\n",
    "    print('planoId', t.get('planoId'))\n",
    "    print('planoNome', t.get('planoNome'))\n",
    "    print('--------------------------------------------')"
   ]
  },
  {
   "cell_type": "code",
   "execution_count": null,
   "metadata": {},
   "outputs": [],
   "source": []
  },
  {
   "cell_type": "markdown",
   "metadata": {},
   "source": [
    "### Simulando erro (login errado)"
   ]
  },
  {
   "cell_type": "code",
   "execution_count": 23,
   "metadata": {},
   "outputs": [],
   "source": [
    "payload = {\n",
    "    'mensagem': \"<?xml version='1.0' encoding='UTF-8' ?><requisicao><login>xml</login><senha>154766</senha></requisicao>\",\n",
    "    }"
   ]
  },
  {
   "cell_type": "code",
   "execution_count": 24,
   "metadata": {},
   "outputs": [],
   "source": [
    "response = requests.get(full_url, params=payload)"
   ]
  },
  {
   "cell_type": "code",
   "execution_count": 25,
   "metadata": {},
   "outputs": [
    {
     "data": {
      "text/plain": [
       "200"
      ]
     },
     "execution_count": 25,
     "metadata": {},
     "output_type": "execute_result"
    }
   ],
   "source": [
    "response.status_code"
   ]
  },
  {
   "cell_type": "code",
   "execution_count": 26,
   "metadata": {},
   "outputs": [
    {
     "data": {
      "text/plain": [
       "b\"<?xml version='1.0' encoding='UTF-8' ?> \\r\\n\\t<erro>\\r\\n\\t\\t<codigo>004</codigo>\\r\\n\\t\\t<descricao>USUARIO INVALIDO</descricao>\\r\\n\\t</erro>\""
      ]
     },
     "execution_count": 26,
     "metadata": {},
     "output_type": "execute_result"
    }
   ],
   "source": [
    "response.content"
   ]
  },
  {
   "cell_type": "code",
   "execution_count": 27,
   "metadata": {},
   "outputs": [],
   "source": [
    "result=jxmlease.parse(response.content)"
   ]
  },
  {
   "cell_type": "code",
   "execution_count": 38,
   "metadata": {},
   "outputs": [
    {
     "data": {
      "text/plain": [
       "XMLCDATANode(xml_attrs=OrderedDict(), value='004')"
      ]
     },
     "execution_count": 38,
     "metadata": {},
     "output_type": "execute_result"
    }
   ],
   "source": [
    "result['erro']['codigo']"
   ]
  },
  {
   "cell_type": "code",
   "execution_count": 40,
   "metadata": {},
   "outputs": [
    {
     "data": {
      "text/plain": [
       "XMLCDATANode(xml_attrs=OrderedDict(), value='USUARIO INVALIDO')"
      ]
     },
     "execution_count": 40,
     "metadata": {},
     "output_type": "execute_result"
    }
   ],
   "source": [
    "result['erro']['descricao']"
   ]
  },
  {
   "cell_type": "markdown",
   "metadata": {},
   "source": [
    "### Simulando erro (mensagem errada)"
   ]
  },
  {
   "cell_type": "code",
   "execution_count": 49,
   "metadata": {},
   "outputs": [],
   "source": [
    "payload = {\n",
    "    'mensagem': \"<requisicao></requisicao>\",\n",
    "    }"
   ]
  },
  {
   "cell_type": "code",
   "execution_count": 50,
   "metadata": {},
   "outputs": [],
   "source": [
    "response = requests.get(full_url, params=payload)"
   ]
  },
  {
   "cell_type": "code",
   "execution_count": 51,
   "metadata": {},
   "outputs": [
    {
     "data": {
      "text/plain": [
       "200"
      ]
     },
     "execution_count": 51,
     "metadata": {},
     "output_type": "execute_result"
    }
   ],
   "source": [
    "response.status_code"
   ]
  },
  {
   "cell_type": "code",
   "execution_count": 52,
   "metadata": {},
   "outputs": [
    {
     "data": {
      "text/plain": [
       "b\"<?xml version='1.0' encoding='UTF-8' ?> \\r\\n\\t<erro>\\r\\n\\t\\t<codigo>005</codigo>\\r\\n\\t\\t<descricao>USUARIO NAO INFORMADO</descricao>\\r\\n\\t</erro>\""
      ]
     },
     "execution_count": 52,
     "metadata": {},
     "output_type": "execute_result"
    }
   ],
   "source": [
    "response.content"
   ]
  },
  {
   "cell_type": "code",
   "execution_count": 53,
   "metadata": {},
   "outputs": [],
   "source": [
    "result=jxmlease.parse(response.content)"
   ]
  },
  {
   "cell_type": "code",
   "execution_count": 54,
   "metadata": {},
   "outputs": [
    {
     "data": {
      "text/plain": [
       "XMLCDATANode(xml_attrs=OrderedDict(), value='005')"
      ]
     },
     "execution_count": 54,
     "metadata": {},
     "output_type": "execute_result"
    }
   ],
   "source": [
    "result['erro']['codigo']"
   ]
  },
  {
   "cell_type": "code",
   "execution_count": 55,
   "metadata": {},
   "outputs": [
    {
     "data": {
      "text/plain": [
       "XMLCDATANode(xml_attrs=OrderedDict(), value='USUARIO NAO INFORMADO')"
      ]
     },
     "execution_count": 55,
     "metadata": {},
     "output_type": "execute_result"
    }
   ],
   "source": [
    "result['erro']['descricao']"
   ]
  },
  {
   "cell_type": "code",
   "execution_count": null,
   "metadata": {},
   "outputs": [],
   "source": []
  }
 ],
 "metadata": {
  "kernelspec": {
   "display_name": "Python 3",
   "language": "python",
   "name": "python3"
  },
  "language_info": {
   "codemirror_mode": {
    "name": "ipython",
    "version": 3
   },
   "file_extension": ".py",
   "mimetype": "text/x-python",
   "name": "python",
   "nbconvert_exporter": "python",
   "pygments_lexer": "ipython3",
   "version": "3.7.1"
  }
 },
 "nbformat": 4,
 "nbformat_minor": 2
}
